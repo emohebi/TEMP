{
 "cells": [
  {
   "cell_type": "code",
   "execution_count": 1,
   "id": "6844b343-a076-4733-bc4c-c7b729bdb01b",
   "metadata": {},
   "outputs": [],
   "source": [
    "# import torch\n",
    "import json\n",
    "# torch.cuda.empty_cache()"
   ]
  },
  {
   "cell_type": "markdown",
   "id": "d9a26268-d717-477f-bdf5-78361d1d9426",
   "metadata": {},
   "source": [
    "## Create Prompt"
   ]
  },
  {
   "cell_type": "code",
   "execution_count": 20,
   "id": "d82fb0f0-4900-4a15-bf36-8eccbac69ec9",
   "metadata": {},
   "outputs": [],
   "source": [
    "student_1_description = \"David Nguyen is a sophomore majoring in computer science at Stanford University. He is Asian American and has a 3.8 GPA. David is known for his programming skills and is an active member of the university's Robotics Club. He hopes to pursue a career in artificial intelligence after graduating.\""
   ]
  },
  {
   "cell_type": "code",
   "execution_count": 21,
   "id": "ef31c532-5d10-4f24-b8e0-233167bc1453",
   "metadata": {},
   "outputs": [],
   "source": [
    "student_2_description=\"Ravi Patel is a sophomore majoring in computer science at the University of Michigan. He is South Asian Indian American and has a 3.7 GPA. Ravi is an active member of the university's Chess Club and the South Asian Student Association. He hopes to pursue a career in software engineering after graduating.\""
   ]
  },
  {
   "cell_type": "code",
   "execution_count": 23,
   "id": "88455eba-90ca-42c3-b06c-4277bdaddb69",
   "metadata": {},
   "outputs": [],
   "source": [
    "# A simple prompt to extract information from \"student_description\" in a JSON format.\n",
    "sys_message = '''\n",
    "Please extract the following information from the given text and return it as a JSON object:\n",
    "name: as a list\n",
    "major: as a list\n",
    "school: as a list\n",
    "grades: as a list\n",
    "club: as a list\n",
    "'''\n",
    "\n",
    "def get_prompt(sys_message: str, query: str):\n",
    "    # note, don't \"</s>\" to the end\n",
    "    return f'<s> [INST] {sys_message} [/INST]\\nUser: {query}\\nAssistant: '\n",
    "\n",
    "def get_prompt(sys_message: str, query: str):\n",
    "    # note, don't \"</s>\" to the end\n",
    "    return f'<|im_start|>system\\n{sys_message}<|im_end|>\\n<|im_start|>user\\n{query}<|im_end|>\\n<|im_start|>assistant'"
   ]
  },
  {
   "cell_type": "code",
   "execution_count": 24,
   "id": "f675bfda-00fa-494d-bee6-7960fadb028e",
   "metadata": {},
   "outputs": [
    {
     "name": "stdout",
     "output_type": "stream",
     "text": [
      "SyncPage[Model](data=[Model(id='meta-llama/Llama-3.2-3B-Instruct', created=1730265949, object='model', owned_by='vllm', root='meta-llama/Llama-3.2-3B-Instruct', parent=None, max_model_len=4096, permission=[{'id': 'modelperm-e8737bf0c0694ed4806d63c334cf5966', 'object': 'model_permission', 'created': 1730265949, 'allow_create_engine': False, 'allow_sampling': True, 'allow_logprobs': True, 'allow_search_indices': False, 'allow_view': True, 'allow_fine_tuning': False, 'organization': '*', 'group': None, 'is_blocking': False}])], object='list')\n"
     ]
    }
   ],
   "source": [
    "from openai import OpenAI\n",
    "\n",
    "# Modify OpenAI's API key and API base to use vLLM's API server.\n",
    "openai_api_key = \"EMPTY\"\n",
    "openai_api_base = \"http://localhost:8000/v1\"\n",
    "\n",
    "client = OpenAI(\n",
    "    # defaults to os.environ.get(\"OPENAI_API_KEY\")\n",
    "    api_key=openai_api_key,\n",
    "    base_url=openai_api_base,\n",
    ")\n",
    "\n",
    "models = client.models.list()\n",
    "print(models)\n",
    "model = models.data[0].id"
   ]
  },
  {
   "cell_type": "code",
   "execution_count": 31,
   "id": "0287c60c-bfc8-4961-a00b-13084d95c14f",
   "metadata": {},
   "outputs": [],
   "source": [
    "full_prompts = [get_prompt(sys_message, i) for i in [student_1_description, student_2_description]]"
   ]
  },
  {
   "cell_type": "code",
   "execution_count": null,
   "id": "67a921b1-c929-4e07-b02b-7a49566626d8",
   "metadata": {},
   "outputs": [],
   "source": [
    "# Generating response back from gpt-3.5-turbo\n",
    "stream = False\n",
    "openai_response = client.completions.create(\n",
    "    model=model,\n",
    "    prompt=full_prompts,\n",
    "    echo=False,\n",
    "    stop= ['\\nUser:'],\n",
    "    max_tokens=512,\n",
    "    temperature=0,\n",
    "    frequency_penalty= 0,\n",
    "    presence_penalty= 0,\n",
    "    n=1,\n",
    "    best_of=1,\n",
    "    stream=stream,\n",
    "    top_p=1,\n",
    "    logprobs=None)\n",
    "\n",
    "json_response = json.loads(openai_response.choices[0].text)\n",
    "json_response"
   ]
  },
  {
   "cell_type": "code",
   "execution_count": 28,
   "id": "3ff4c84b-923a-4bf3-b5a5-2ade50b3c7b7",
   "metadata": {},
   "outputs": [
    {
     "data": {
      "text/plain": [
       "{'properties': {'person_name': {'description': 'List of names of the people, e.g. Christoph, person y',\n",
       "   'items': {'type': 'string'},\n",
       "   'title': 'Person Name',\n",
       "   'type': 'array'},\n",
       "  'major': {'description': 'List of majors',\n",
       "   'items': {'type': 'string'},\n",
       "   'title': 'Major',\n",
       "   'type': 'array'},\n",
       "  'school': {'description': 'List of schools',\n",
       "   'items': {'type': 'string'},\n",
       "   'title': 'School',\n",
       "   'type': 'array'},\n",
       "  'grades': {'description': 'List of grades',\n",
       "   'items': {'type': 'string'},\n",
       "   'title': 'Grades',\n",
       "   'type': 'array'},\n",
       "  'club': {'description': 'List of clubs',\n",
       "   'items': {'type': 'string'},\n",
       "   'title': 'Club',\n",
       "   'type': 'array'}},\n",
       " 'required': ['person_name', 'major', 'school', 'grades', 'club'],\n",
       " 'title': 'ExtractInsightsParams',\n",
       " 'type': 'object'}"
      ]
     },
     "execution_count": 28,
     "metadata": {},
     "output_type": "execute_result"
    }
   ],
   "source": [
    "from pydantic import BaseModel, Field\n",
    "from typing import Optional, List\n",
    "\n",
    "# define function structure in pydantic\n",
    "\n",
    "class ExtractInsightsParams(BaseModel):\n",
    "    person_name: List[str] = Field(..., description=\"List of names of the people, e.g. Christoph, person y\")\n",
    "    major: List[str] = Field(..., description=\"List of majors\")\n",
    "    school: List[str] = Field(..., description=\"List of schools\")\n",
    "    grades: List[str] = Field(..., description=\"List of grades\")\n",
    "    club: List[str] = Field(..., description=\"List of clubs\")\n",
    "\n",
    "ExtractInsightsParams.model_json_schema()"
   ]
  },
  {
   "cell_type": "code",
   "execution_count": 32,
   "id": "111b2438-5522-4822-a4f6-6ba46e103e23",
   "metadata": {},
   "outputs": [],
   "source": [
    "stream = False\n",
    "openai_response = client.completions.create(\n",
    "    model=model,\n",
    "    prompt=full_prompts,\n",
    "    echo=False,\n",
    "    stop= ['\\nUser:'],\n",
    "    max_tokens=512,\n",
    "    temperature=0,\n",
    "    frequency_penalty= 0,\n",
    "    presence_penalty= 0,\n",
    "    n=1,\n",
    "    best_of=1,\n",
    "    stream=stream,\n",
    "    top_p=1,\n",
    "    logprobs=None,\n",
    "    extra_body={\n",
    "        \"guided_json\": ExtractInsightsParams.model_json_schema()\n",
    "    })\n",
    "\n",
    "# json_response = json.loads(openai_response.choices[0].text)\n",
    "# json_response"
   ]
  },
  {
   "cell_type": "code",
   "execution_count": 34,
   "id": "20e2939a-1dac-4365-8b28-8f4921a0606a",
   "metadata": {},
   "outputs": [
    {
     "name": "stdout",
     "output_type": "stream",
     "text": [
      "{'major': ['Computer Science'], 'school': ['Stanford University'], 'grades': ['3.8'], 'club': ['Robotics Club'], 'person_name': ['David Nguyen']}\n",
      "{'major': ['Computer Science'], 'school': ['University of Michigan'], 'grades': ['3.7'], 'club': ['Chess Club', 'South Asian Student Association'], 'person_name': ['Ravi Patel']}\n"
     ]
    }
   ],
   "source": [
    "for ch in openai_response.choices:\n",
    "    json_response = json.loads(ch.text)\n",
    "    print(json_response)"
   ]
  },
  {
   "cell_type": "code",
   "execution_count": null,
   "id": "e7234166-3e91-4f06-8add-8e3d241277ac",
   "metadata": {},
   "outputs": [],
   "source": []
  }
 ],
 "metadata": {
  "kernelspec": {
   "display_name": "Python 3 (ipykernel)",
   "language": "python",
   "name": "python3"
  },
  "language_info": {
   "codemirror_mode": {
    "name": "ipython",
    "version": 3
   },
   "file_extension": ".py",
   "mimetype": "text/x-python",
   "name": "python",
   "nbconvert_exporter": "python",
   "pygments_lexer": "ipython3",
   "version": "3.10.12"
  }
 },
 "nbformat": 4,
 "nbformat_minor": 5
}
